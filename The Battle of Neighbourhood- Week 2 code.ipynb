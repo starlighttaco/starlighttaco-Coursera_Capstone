{
    "cells": [
        {
            "metadata": {},
            "cell_type": "code",
            "source": "import requests # library to handle requests\nimport pandas as pd # library for data analsysis\nimport numpy as np\n!pip install folium\nimport folium ",
            "execution_count": 1,
            "outputs": [
                {
                    "output_type": "stream",
                    "text": "Collecting folium\n\u001b[?25l  Downloading https://files.pythonhosted.org/packages/a4/f0/44e69d50519880287cc41e7c8a6acc58daa9a9acf5f6afc52bcc70f69a6d/folium-0.11.0-py2.py3-none-any.whl (93kB)\n\u001b[K     |\u2588\u2588\u2588\u2588\u2588\u2588\u2588\u2588\u2588\u2588\u2588\u2588\u2588\u2588\u2588\u2588\u2588\u2588\u2588\u2588\u2588\u2588\u2588\u2588\u2588\u2588\u2588\u2588\u2588\u2588\u2588\u2588| 102kB 8.3MB/s ta 0:00:011\n\u001b[?25hRequirement already satisfied: requests in /opt/conda/envs/Python36/lib/python3.6/site-packages (from folium) (2.21.0)\nRequirement already satisfied: jinja2>=2.9 in /opt/conda/envs/Python36/lib/python3.6/site-packages (from folium) (2.10)\nCollecting branca>=0.3.0 (from folium)\n  Downloading https://files.pythonhosted.org/packages/13/fb/9eacc24ba3216510c6b59a4ea1cd53d87f25ba76237d7f4393abeaf4c94e/branca-0.4.1-py3-none-any.whl\nRequirement already satisfied: numpy in /opt/conda/envs/Python36/lib/python3.6/site-packages (from folium) (1.15.4)\nRequirement already satisfied: urllib3<1.25,>=1.21.1 in /opt/conda/envs/Python36/lib/python3.6/site-packages (from requests->folium) (1.24.1)\nRequirement already satisfied: chardet<3.1.0,>=3.0.2 in /opt/conda/envs/Python36/lib/python3.6/site-packages (from requests->folium) (3.0.4)\nRequirement already satisfied: idna<2.9,>=2.5 in /opt/conda/envs/Python36/lib/python3.6/site-packages (from requests->folium) (2.8)\nRequirement already satisfied: certifi>=2017.4.17 in /opt/conda/envs/Python36/lib/python3.6/site-packages (from requests->folium) (2020.6.20)\nRequirement already satisfied: MarkupSafe>=0.23 in /opt/conda/envs/Python36/lib/python3.6/site-packages (from jinja2>=2.9->folium) (1.1.0)\nInstalling collected packages: branca, folium\nSuccessfully installed branca-0.4.1 folium-0.11.0\n",
                    "name": "stdout"
                }
            ]
        },
        {
            "metadata": {},
            "cell_type": "markdown",
            "source": "### Apply Credentials"
        },
        {
            "metadata": {},
            "cell_type": "code",
            "source": "CLIENT_ID = 'L1X5VYK400024KR2RNSKAUNPJB5TLXZYQBLHHXGTOJHTOSNL' # your Foursquare ID\nCLIENT_SECRET = '2D1MCQ0TAIYMSWXKCUFEBCNRCEEXTUEORPCG13XOR0ED1PSO' # your Foursquare Secret\nVERSION = '20180604'\nLIMIT = 40\nprint('Your credentails:')\nprint('CLIENT_ID: ' + CLIENT_ID)\nprint('CLIENT_SECRET:' + CLIENT_SECRET)",
            "execution_count": 2,
            "outputs": [
                {
                    "output_type": "stream",
                    "text": "Your credentails:\nCLIENT_ID: L1X5VYK400024KR2RNSKAUNPJB5TLXZYQBLHHXGTOJHTOSNL\nCLIENT_SECRET:2D1MCQ0TAIYMSWXKCUFEBCNRCEEXTUEORPCG13XOR0ED1PSO\n",
                    "name": "stdout"
                }
            ]
        },
        {
            "metadata": {},
            "cell_type": "markdown",
            "source": "### Get request near Toronto"
        },
        {
            "metadata": {},
            "cell_type": "code",
            "source": "import requests\n\nrequest_parameters = {\n    \"client_id\": CLIENT_ID,\n    \"client_secret\": CLIENT_SECRET,\n    \"v\": '20180605',\n    \"section\": \"coffee\",\n    \"near\": \"Toronto\",\n    \"radius\": 1000,\n    \"limit\": 50}\n\ndata = requests.get(\"https://api.foursquare.com/v2/venues/explore\", params=request_parameters)",
            "execution_count": 3,
            "outputs": []
        },
        {
            "metadata": {},
            "cell_type": "markdown",
            "source": "### Transform data into json then request geocode.\n"
        },
        {
            "metadata": {},
            "cell_type": "code",
            "source": "d = data.json()[\"response\"]\nd.keys()",
            "execution_count": 4,
            "outputs": [
                {
                    "output_type": "execute_result",
                    "execution_count": 4,
                    "data": {
                        "text/plain": "dict_keys(['suggestedFilters', 'geocode', 'headerLocation', 'headerFullLocation', 'headerLocationGranularity', 'query', 'totalResults', 'suggestedBounds', 'groups'])"
                    },
                    "metadata": {}
                }
            ]
        },
        {
            "metadata": {},
            "cell_type": "code",
            "source": "d.keys(['suggestedFilters', 'geocode', 'headerLocation', 'headerFullLocation', 'headerLocationGranularity', 'query', 'totalResults', 'suggestedBounds', 'groups'])",
            "execution_count": 6,
            "outputs": [
                {
                    "output_type": "error",
                    "ename": "TypeError",
                    "evalue": "keys() takes no arguments (1 given)",
                    "traceback": [
                        "\u001b[0;31m---------------------------------------------------------------------------\u001b[0m",
                        "\u001b[0;31mTypeError\u001b[0m                                 Traceback (most recent call last)",
                        "\u001b[0;32m<ipython-input-6-64437a94d35b>\u001b[0m in \u001b[0;36m<module>\u001b[0;34m\u001b[0m\n\u001b[0;32m----> 1\u001b[0;31m \u001b[0md\u001b[0m\u001b[0;34m.\u001b[0m\u001b[0mkeys\u001b[0m\u001b[0;34m(\u001b[0m\u001b[0;34m[\u001b[0m\u001b[0;34m'suggestedFilters'\u001b[0m\u001b[0;34m,\u001b[0m \u001b[0;34m'geocode'\u001b[0m\u001b[0;34m,\u001b[0m \u001b[0;34m'headerLocation'\u001b[0m\u001b[0;34m,\u001b[0m \u001b[0;34m'headerFullLocation'\u001b[0m\u001b[0;34m,\u001b[0m \u001b[0;34m'headerLocationGranularity'\u001b[0m\u001b[0;34m,\u001b[0m \u001b[0;34m'query'\u001b[0m\u001b[0;34m,\u001b[0m \u001b[0;34m'totalResults'\u001b[0m\u001b[0;34m,\u001b[0m \u001b[0;34m'suggestedBounds'\u001b[0m\u001b[0;34m,\u001b[0m \u001b[0;34m'groups'\u001b[0m\u001b[0;34m]\u001b[0m\u001b[0;34m)\u001b[0m\u001b[0;34m\u001b[0m\u001b[0;34m\u001b[0m\u001b[0m\n\u001b[0m",
                        "\u001b[0;31mTypeError\u001b[0m: keys() takes no arguments (1 given)"
                    ]
                }
            ]
        },
        {
            "metadata": {},
            "cell_type": "code",
            "source": "('city', 'Toronto', 'Toronto')\n",
            "execution_count": 8,
            "outputs": [
                {
                    "output_type": "execute_result",
                    "execution_count": 8,
                    "data": {
                        "text/plain": "('city', 'Toronto', 'Toronto')"
                    },
                    "metadata": {}
                }
            ]
        },
        {
            "metadata": {},
            "cell_type": "code",
            "source": "d[\"suggestedBounds\"], d[\"totalResults\"]",
            "execution_count": 9,
            "outputs": [
                {
                    "output_type": "execute_result",
                    "execution_count": 9,
                    "data": {
                        "text/plain": "({'ne': {'lat': 43.70446656490709, 'lng': -79.40484434999999},\n  'sw': {'lat': 43.70041378262348, 'lng': -79.42850865}},\n 8)"
                    },
                    "metadata": {}
                }
            ]
        },
        {
            "metadata": {},
            "cell_type": "code",
            "source": "({'ne': {'lat': 16.076950003892705, 'lng': 108.22982675100442},\n  'sw': {'lat': 16.059727142671775, 'lng': 108.21333222890732}},\n 41)",
            "execution_count": 10,
            "outputs": [
                {
                    "output_type": "execute_result",
                    "execution_count": 10,
                    "data": {
                        "text/plain": "({'ne': {'lat': 16.076950003892705, 'lng': 108.22982675100442},\n  'sw': {'lat': 16.059727142671775, 'lng': 108.21333222890732}},\n 41)"
                    },
                    "metadata": {}
                }
            ]
        },
        {
            "metadata": {},
            "cell_type": "code",
            "source": "d[\"geocode\"]",
            "execution_count": 11,
            "outputs": [
                {
                    "output_type": "execute_result",
                    "execution_count": 11,
                    "data": {
                        "text/plain": "{'what': '',\n 'where': 'toronto',\n 'center': {'lat': 43.70011, 'lng': -79.4163},\n 'displayString': 'Toronto, ON, Canada',\n 'cc': 'CA',\n 'geometry': {'bounds': {'ne': {'lat': 43.855547992182615,\n    'lng': -79.1040939249301},\n   'sw': {'lat': 43.58464308210616, 'lng': -79.64745469478004}}},\n 'slug': 'toronto',\n 'longId': '72057594044095801'}"
                    },
                    "metadata": {}
                }
            ]
        },
        {
            "metadata": {},
            "cell_type": "code",
            "source": "{'cc': 'VN',\n 'center': {'lat': 16.06778, 'lng': 108.22083},\n 'displayString': 'Toronto, Ontario, Canada',\n 'geometry': {'bounds': {'ne': {'lat': 16.11072, 'lng': 108.276871},\n   'sw': {'lat': 15.982205, 'lng': 108.141861}}},\n 'longId': '72057594039511928',\n 'slug': 'Canada',\n 'what': '',\n 'where': 'Toronto'}",
            "execution_count": 12,
            "outputs": [
                {
                    "output_type": "execute_result",
                    "execution_count": 12,
                    "data": {
                        "text/plain": "{'cc': 'VN',\n 'center': {'lat': 16.06778, 'lng': 108.22083},\n 'displayString': 'Toronto, Ontario, Canada',\n 'geometry': {'bounds': {'ne': {'lat': 16.11072, 'lng': 108.276871},\n   'sw': {'lat': 15.982205, 'lng': 108.141861}}},\n 'longId': '72057594039511928',\n 'slug': 'Canada',\n 'what': '',\n 'where': 'Toronto'}"
                    },
                    "metadata": {}
                }
            ]
        },
        {
            "metadata": {},
            "cell_type": "markdown",
            "source": "### Create groups"
        },
        {
            "metadata": {},
            "cell_type": "code",
            "source": "d[\"groups\"][0].keys()",
            "execution_count": 13,
            "outputs": [
                {
                    "output_type": "execute_result",
                    "execution_count": 13,
                    "data": {
                        "text/plain": "dict_keys(['type', 'name', 'items'])"
                    },
                    "metadata": {}
                }
            ]
        },
        {
            "metadata": {},
            "cell_type": "code",
            "source": "dict_keys(['type', 'name', 'items'])",
            "execution_count": 14,
            "outputs": [
                {
                    "output_type": "error",
                    "ename": "NameError",
                    "evalue": "name 'dict_keys' is not defined",
                    "traceback": [
                        "\u001b[0;31m---------------------------------------------------------------------------\u001b[0m",
                        "\u001b[0;31mNameError\u001b[0m                                 Traceback (most recent call last)",
                        "\u001b[0;32m<ipython-input-14-0b16aec79494>\u001b[0m in \u001b[0;36m<module>\u001b[0;34m\u001b[0m\n\u001b[0;32m----> 1\u001b[0;31m \u001b[0mdict_keys\u001b[0m\u001b[0;34m(\u001b[0m\u001b[0;34m[\u001b[0m\u001b[0;34m'type'\u001b[0m\u001b[0;34m,\u001b[0m \u001b[0;34m'name'\u001b[0m\u001b[0;34m,\u001b[0m \u001b[0;34m'items'\u001b[0m\u001b[0;34m]\u001b[0m\u001b[0;34m)\u001b[0m\u001b[0;34m\u001b[0m\u001b[0;34m\u001b[0m\u001b[0m\n\u001b[0m",
                        "\u001b[0;31mNameError\u001b[0m: name 'dict_keys' is not defined"
                    ]
                }
            ]
        },
        {
            "metadata": {},
            "cell_type": "code",
            "source": "d[\"groups\"][0][\"type\"], d[\"groups\"][0][\"name\"]",
            "execution_count": 15,
            "outputs": [
                {
                    "output_type": "execute_result",
                    "execution_count": 15,
                    "data": {
                        "text/plain": "('Recommended Places', 'recommended')"
                    },
                    "metadata": {}
                }
            ]
        },
        {
            "metadata": {},
            "cell_type": "code",
            "source": "('Recommended Places', 'recommended')",
            "execution_count": 16,
            "outputs": [
                {
                    "output_type": "execute_result",
                    "execution_count": 16,
                    "data": {
                        "text/plain": "('Recommended Places', 'recommended')"
                    },
                    "metadata": {}
                }
            ]
        },
        {
            "metadata": {},
            "cell_type": "markdown",
            "source": "### Creating items of objects coffee shop and their attributes - id, address, name, etc"
        },
        {
            "metadata": {},
            "cell_type": "code",
            "source": "items = d[\"groups\"][0][\"items\"]\nprint(\"number of items: %i\" % len(items))\nitems[0]",
            "execution_count": 17,
            "outputs": [
                {
                    "output_type": "stream",
                    "text": "number of items: 8\n",
                    "name": "stdout"
                },
                {
                    "output_type": "execute_result",
                    "execution_count": 17,
                    "data": {
                        "text/plain": "{'reasons': {'count': 0,\n  'items': [{'summary': 'This spot is popular',\n    'type': 'general',\n    'reasonName': 'globalInteractionReason'}]},\n 'venue': {'id': '4b896ec4f964a520bd3532e3',\n  'name': 'Hotel Gelato',\n  'location': {'address': '532 Eglinton Ave. W',\n   'crossStreet': 'at Heddington Ave.',\n   'lat': 43.703477773135404,\n   'lng': -79.41431071971614,\n   'labeledLatLngs': [{'label': 'display',\n     'lat': 43.703477773135404,\n     'lng': -79.41431071971614}],\n   'postalCode': 'M5N 1B4',\n   'cc': 'CA',\n   'city': 'Toronto',\n   'state': 'ON',\n   'country': 'Canada',\n   'formattedAddress': ['532 Eglinton Ave. W (at Heddington Ave.)',\n    'Toronto ON M5N 1B4',\n    'Canada']},\n  'categories': [{'id': '4bf58dd8d48988d16d941735',\n    'name': 'Caf\u00e9',\n    'pluralName': 'Caf\u00e9s',\n    'shortName': 'Caf\u00e9',\n    'icon': {'prefix': 'https://ss3.4sqi.net/img/categories_v2/food/cafe_',\n     'suffix': '.png'},\n    'primary': True}],\n  'photos': {'count': 0, 'groups': []},\n  'venuePage': {'id': '33040936'}},\n 'referralId': 'e-5-4b896ec4f964a520bd3532e3-0'}"
                    },
                    "metadata": {}
                }
            ]
        },
        {
            "metadata": {},
            "cell_type": "code",
            "source": "number of items: 41\n{'reasons': {'count': 0,\n  'items': [{'reasonName': 'globalInteractionReason',\n    'summary': 'This spot is popular',\n    'type': 'general'}]},\n 'referralId': 'e-5-5a26a41a31ac6c676705e94c-0',\n 'venue': {'categories': [{'icon': {'prefix': 'https://ss3.4sqi.net/img/categories_v2/food/coffeeshop_',\n     'suffix': '.png'},\n    'id': '4bf58dd8d48988d1e0931735',\n    'name': 'Coffee Shop',\n    'pluralName': 'Coffee Shops',\n    'primary': True,\n    'shortName': 'Coffee Shop'}],\n  'id': '5a26a41a31ac6c676705e94c',\n  'location': {'address': '39',\n   'cc': 'CA',\n   'city': 'Toronto',\n   'country': 'Canada',\n   'crossStreet': 'bloor street east',\n   'formattedAddress': ['33 (bloor street east)',\n    'Toronto',\n    'Ontario',\n    'Canada'],\n   'labeledLatLngs': [{'label': 'display',\n     'lat': 16.068062879455486,\n     'lng': 108.22351222071603}],\n   'lat': 16.068062879455486,\n   'lng': 108.22351222071603,\n   'postalCode': 'M4W 3H1',\n   'state': 'Ontario'},\n  'name': 'Taco',\n  'photos': {'count': 0, 'groups': []}}}",
            "execution_count": 20,
            "outputs": [
                {
                    "output_type": "error",
                    "ename": "SyntaxError",
                    "evalue": "invalid syntax (<ipython-input-20-c235188cb80d>, line 1)",
                    "traceback": [
                        "\u001b[0;36m  File \u001b[0;32m\"<ipython-input-20-c235188cb80d>\"\u001b[0;36m, line \u001b[0;32m1\u001b[0m\n\u001b[0;31m    number of items: 41\u001b[0m\n\u001b[0m            ^\u001b[0m\n\u001b[0;31mSyntaxError\u001b[0m\u001b[0;31m:\u001b[0m invalid syntax\n"
                    ]
                }
            ]
        },
        {
            "metadata": {},
            "cell_type": "markdown",
            "source": "### Organize the groups"
        },
        {
            "metadata": {},
            "cell_type": "code",
            "source": "df_raw = []\nfor item in items:\n    venue = item[\"venue\"]\n    categories, uid, name, location = venue[\"categories\"], venue[\"id\"], venue[\"name\"], venue[\"location\"]\n    print(location)\n    assert len(categories) == 1\n    shortname = categories[0][\"shortName\"]\n    address =  ''\n    if hasattr(location, 'address'):\n      address = location['address']\n    if not \"postalCode\" in location:\n        continue\n    postalcode = location[\"postalCode\"]\n    lat = location[\"lat\"]\n    lng = location[\"lng\"]\n    datarow = (uid, name, shortname, address, postalcode, lat, lng)\n    df_raw.append(datarow)\ndf = pd.DataFrame(df_raw, columns=[\"uid\", \"name\", \"shortname\", \"address\", \"postalcode\", \"lat\", \"lng\"])\nprint(\"found %i cafes\" % len(df))\ndf.head()",
            "execution_count": 21,
            "outputs": [
                {
                    "output_type": "stream",
                    "text": "{'address': '532 Eglinton Ave. W', 'crossStreet': 'at Heddington Ave.', 'lat': 43.703477773135404, 'lng': -79.41431071971614, 'labeledLatLngs': [{'label': 'display', 'lat': 43.703477773135404, 'lng': -79.41431071971614}], 'postalCode': 'M5N 1B4', 'cc': 'CA', 'city': 'Toronto', 'state': 'ON', 'country': 'Canada', 'formattedAddress': ['532 Eglinton Ave. W (at Heddington Ave.)', 'Toronto ON M5N 1B4', 'Canada']}\n{'address': '519 Eglinton Avenue West', 'crossStreet': 'Heddington Ave', 'lat': 43.70352947682181, 'lng': -79.4136982823359, 'labeledLatLngs': [{'label': 'display', 'lat': 43.70352947682181, 'lng': -79.4136982823359}], 'postalCode': 'M5N 1B1', 'cc': 'CA', 'city': 'Toronto', 'state': 'ON', 'country': 'Canada', 'formattedAddress': ['519 Eglinton Avenue West (Heddington Ave)', 'Toronto ON M5N 1B1', 'Canada']}\n{'address': '900 Eglinton Ave W', 'crossStreet': 'at Hilltop Rd.', 'lat': 43.700598, 'lng': -79.427433, 'labeledLatLngs': [{'label': 'display', 'lat': 43.700598, 'lng': -79.427433}], 'postalCode': 'M6C 2B6', 'cc': 'CA', 'city': 'Toronto', 'state': 'ON', 'country': 'Canada', 'formattedAddress': ['900 Eglinton Ave W (at Hilltop Rd.)', 'Toronto ON M6C 2B6', 'Canada']}\n{'address': '444 Eglinton Ave. West', 'crossStreet': 'at Castle Knock Rd', 'lat': 43.704171, 'lng': -79.411887, 'labeledLatLngs': [{'label': 'display', 'lat': 43.704171, 'lng': -79.411887}], 'postalCode': 'M5N 1A5', 'cc': 'CA', 'city': 'Toronto', 'state': 'ON', 'country': 'Canada', 'formattedAddress': ['444 Eglinton Ave. West (at Castle Knock Rd)', 'Toronto ON M5N 1A5', 'Canada']}\n{'address': '333 Eglinton Ave West', 'lat': 43.70427271689105, 'lng': -79.40919265153752, 'labeledLatLngs': [{'label': 'display', 'lat': 43.70427271689105, 'lng': -79.40919265153752}], 'postalCode': 'M5P 2L3', 'cc': 'CA', 'city': 'Toronto', 'state': 'ON', 'country': 'Canada', 'formattedAddress': ['333 Eglinton Ave West', 'Toronto ON M5P 2L3', 'Canada']}\n{'address': '518 Eglinton Ave W', 'crossStreet': 'Heddinton Ave', 'lat': 43.70358303328589, 'lng': -79.41382429186699, 'labeledLatLngs': [{'label': 'display', 'lat': 43.70358303328589, 'lng': -79.41382429186699}], 'postalCode': 'M5N 1A5', 'cc': 'CA', 'city': 'Toronto', 'state': 'ON', 'country': 'Canada', 'formattedAddress': ['518 Eglinton Ave W (Heddinton Ave)', 'Toronto ON M5N 1A5', 'Canada']}\n{'address': '351 Eglinton Ave W', 'crossStreet': 'at Avenue Rd.', 'lat': 43.70428234753056, 'lng': -79.4096550443724, 'labeledLatLngs': [{'label': 'display', 'lat': 43.70428234753056, 'lng': -79.4096550443724}], 'postalCode': 'M5N 1A2', 'cc': 'CA', 'city': 'Toronto', 'state': 'ON', 'country': 'Canada', 'formattedAddress': ['351 Eglinton Ave W (at Avenue Rd.)', 'Toronto ON M5N 1A2', 'Canada']}\n{'address': '233 Eglinton Ave West', 'crossStreet': 'Oriole Parkway and Eglinton', 'lat': 43.703966, 'lng': -79.40592, 'labeledLatLngs': [{'label': 'display', 'lat': 43.703966, 'lng': -79.40592}], 'cc': 'CA', 'city': 'Toronto', 'state': 'ON', 'country': 'Canada', 'formattedAddress': ['233 Eglinton Ave West (Oriole Parkway and Eglinton)', 'Toronto ON', 'Canada']}\nfound 7 cafes\n",
                    "name": "stdout"
                },
                {
                    "output_type": "execute_result",
                    "execution_count": 21,
                    "data": {
                        "text/plain": "                        uid                       name    shortname address  \\\n0  4b896ec4f964a520bd3532e3               Hotel Gelato         Caf\u00e9           \n1  4bdc79352a3a0f47a800b3b6  The Mad Bean Coffee House  Coffee Shop           \n2  4b0feea1f964a5206a6623e3                  Starbucks  Coffee Shop           \n3  4ae99f04f964a52061b521e3                  Starbucks  Coffee Shop           \n4  59a945aceacf45447d6698c3                Tim Hortons  Coffee Shop           \n\n  postalcode        lat        lng  \n0    M5N 1B4  43.703478 -79.414311  \n1    M5N 1B1  43.703529 -79.413698  \n2    M6C 2B6  43.700598 -79.427433  \n3    M5N 1A5  43.704171 -79.411887  \n4    M5P 2L3  43.704273 -79.409193  ",
                        "text/html": "<div>\n<style scoped>\n    .dataframe tbody tr th:only-of-type {\n        vertical-align: middle;\n    }\n\n    .dataframe tbody tr th {\n        vertical-align: top;\n    }\n\n    .dataframe thead th {\n        text-align: right;\n    }\n</style>\n<table border=\"1\" class=\"dataframe\">\n  <thead>\n    <tr style=\"text-align: right;\">\n      <th></th>\n      <th>uid</th>\n      <th>name</th>\n      <th>shortname</th>\n      <th>address</th>\n      <th>postalcode</th>\n      <th>lat</th>\n      <th>lng</th>\n    </tr>\n  </thead>\n  <tbody>\n    <tr>\n      <th>0</th>\n      <td>4b896ec4f964a520bd3532e3</td>\n      <td>Hotel Gelato</td>\n      <td>Caf\u00e9</td>\n      <td></td>\n      <td>M5N 1B4</td>\n      <td>43.703478</td>\n      <td>-79.414311</td>\n    </tr>\n    <tr>\n      <th>1</th>\n      <td>4bdc79352a3a0f47a800b3b6</td>\n      <td>The Mad Bean Coffee House</td>\n      <td>Coffee Shop</td>\n      <td></td>\n      <td>M5N 1B1</td>\n      <td>43.703529</td>\n      <td>-79.413698</td>\n    </tr>\n    <tr>\n      <th>2</th>\n      <td>4b0feea1f964a5206a6623e3</td>\n      <td>Starbucks</td>\n      <td>Coffee Shop</td>\n      <td></td>\n      <td>M6C 2B6</td>\n      <td>43.700598</td>\n      <td>-79.427433</td>\n    </tr>\n    <tr>\n      <th>3</th>\n      <td>4ae99f04f964a52061b521e3</td>\n      <td>Starbucks</td>\n      <td>Coffee Shop</td>\n      <td></td>\n      <td>M5N 1A5</td>\n      <td>43.704171</td>\n      <td>-79.411887</td>\n    </tr>\n    <tr>\n      <th>4</th>\n      <td>59a945aceacf45447d6698c3</td>\n      <td>Tim Hortons</td>\n      <td>Coffee Shop</td>\n      <td></td>\n      <td>M5P 2L3</td>\n      <td>43.704273</td>\n      <td>-79.409193</td>\n    </tr>\n  </tbody>\n</table>\n</div>"
                    },
                    "metadata": {}
                }
            ]
        },
        {
            "metadata": {},
            "cell_type": "code",
            "source": "Toronto_center = d[\"geocode\"][\"center\"]\nToronto_center",
            "execution_count": 22,
            "outputs": [
                {
                    "output_type": "execute_result",
                    "execution_count": 22,
                    "data": {
                        "text/plain": "{'lat': 43.70011, 'lng': -79.4163}"
                    },
                    "metadata": {}
                }
            ]
        },
        {
            "metadata": {},
            "cell_type": "code",
            "source": "{'lat': 16.06778, 'lng': 108.22083}",
            "execution_count": 23,
            "outputs": [
                {
                    "output_type": "execute_result",
                    "execution_count": 23,
                    "data": {
                        "text/plain": "{'lat': 16.06778, 'lng': 108.22083}"
                    },
                    "metadata": {}
                }
            ]
        },
        {
            "metadata": {
                "scrolled": true
            },
            "cell_type": "code",
            "source": "from folium import plugins\n\n\nmap_Toronto = folium.Map(location=[43.67048, -79.38558], zoom_start=14)\n\ndef add_markers(df):\n    for (j, row) in df.iterrows():\n        label = folium.Popup(row[\"name\"], parse_html=True)\n        folium.CircleMarker(\n            [row[\"lat\"], row[\"lng\"]],\n            radius=5,\n            popup=label,\n            color='red',\n            fill=True,\n            fill_color='#3186cc',\n            fill_opacity=0.7,\n            parse_html=False).add_to(map_Toronto)\n\nadd_markers(df)\nhm_data = df[[\"lat\", \"lng\"]].to_numpy().tolist()\nmap_Toronto.add_child(plugins.HeatMap(hm_data))\n\nmap_Toronto",
            "execution_count": 28,
            "outputs": [
                {
                    "output_type": "execute_result",
                    "execution_count": 28,
                    "data": {
                        "text/plain": "<folium.folium.Map at 0x7f6259b44240>",
                        "text/html": "<div style=\"width:100%;\"><div style=\"position:relative;width:100%;height:0;padding-bottom:60%;\"><span style=\"color:#565656\">Make this Notebook Trusted to load map: File -> Trust Notebook</span><iframe src=\"about:blank\" style=\"position:absolute;width:100%;height:100%;left:0;top:0;border:none !important;\" data-html=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 onload=\"this.contentDocument.open();this.contentDocument.write(atob(this.getAttribute('data-html')));this.contentDocument.close();\" allowfullscreen webkitallowfullscreen mozallowfullscreen></iframe></div></div>"
                    },
                    "metadata": {}
                }
            ]
        },
        {
            "metadata": {
                "scrolled": true
            },
            "cell_type": "code",
            "source": "lat = 43.67048\nlng = -79.38558\nmap_Toronto = folium.Map(location=[lat, lng], zoom_start=17)\nadd_markers(df)\nfolium.CircleMarker(\n    [lat, lng],\n    radius=15,\n    popup=\"Taco!\",\n    color='green',\n    fill=True,\n    fill_color='#3186cc',\n    fill_opacity=0.7,\n    parse_html=False).add_to(map_Toronto)\nmap_Toronto",
            "execution_count": 29,
            "outputs": [
                {
                    "output_type": "execute_result",
                    "execution_count": 29,
                    "data": {
                        "text/plain": "<folium.folium.Map at 0x7f6259d9a630>",
                        "text/html": "<div style=\"width:100%;\"><div style=\"position:relative;width:100%;height:0;padding-bottom:60%;\"><span style=\"color:#565656\">Make this Notebook Trusted to load map: File -> Trust Notebook</span><iframe src=\"about:blank\" style=\"position:absolute;width:100%;height:100%;left:0;top:0;border:none !important;\" data-html=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 onload=\"this.contentDocument.open();this.contentDocument.write(atob(this.getAttribute('data-html')));this.contentDocument.close();\" allowfullscreen webkitallowfullscreen mozallowfullscreen></iframe></div></div>"
                    },
                    "metadata": {}
                }
            ]
        },
        {
            "metadata": {},
            "cell_type": "code",
            "source": "",
            "execution_count": null,
            "outputs": []
        }
    ],
    "metadata": {
        "kernelspec": {
            "name": "python3",
            "display_name": "Python 3.6",
            "language": "python"
        },
        "language_info": {
            "name": "python",
            "version": "3.6.9",
            "mimetype": "text/x-python",
            "codemirror_mode": {
                "name": "ipython",
                "version": 3
            },
            "pygments_lexer": "ipython3",
            "nbconvert_exporter": "python",
            "file_extension": ".py"
        }
    },
    "nbformat": 4,
    "nbformat_minor": 1
}