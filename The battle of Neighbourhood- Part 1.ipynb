{
    "cells": [
        {
            "metadata": {
                "collapsed": true
            },
            "cell_type": "markdown",
            "source": "# Introduction"
        },
        {
            "metadata": {},
            "cell_type": "markdown",
            "source": "Dogs are truly the best partners in our life. Research shows that having a dog as a companion has so many benefits both physically and mentally. Dogs \ncan be your true friend, provide you with unconditional love, can motivate you to exercise, and the list goes on. It is also very important that our\nlittle fur baby can be taken care of in terms of health, grooming, and giving attention. \n\nIn a big city like Toronto, there is so much competition with dog grooming, but we want to make sure that our fur babies are going to that special \nplace where it receives the love and care that it deserves. We want to provide an excellent grooming to all those parents who love their dogs so much. \nwhere is the best place to open dog grooming services. For the final assignment, of the Applied Data Science Capstone, I have decided to explore the \nproblem of finding a suitable neighbourhood to open a new dog grooming services in Toronto."
        },
        {
            "metadata": {},
            "cell_type": "markdown",
            "source": "# Business Problem"
        },
        {
            "metadata": {},
            "cell_type": "markdown",
            "source": "To open a dog grooming service, we need to decide what the demand is for the service and where the best location is:\nIn order to decide this, I will be using foursquare ratings in Toronto. It is important to find who target audience is, and do some market research for an area where generally a lot of people are owning dogs, networking with Humane society or advertise at pet stores etc. \n"
        },
        {
            "metadata": {},
            "cell_type": "markdown",
            "source": "# Data"
        },
        {
            "metadata": {},
            "cell_type": "markdown",
            "source": "In order to collect the data about best location and rating in Toronto, I will be targeting following areas:\n\n1) Target Market: According to\u00a0Pet Age\u00a0magazine,  6 out of 10 household own at least one pet. General grooming of those pets can be a big market.  With grooming service, it is important to target supplies for the grooming services as well for people who enjoys grooming their pets at home. Mobile services are also one of the option to target elderly group. We can collect this data from CKC or THS.\n\n2) Marketing: social media, retail stores, Volunteering organizations, charity events, trade shows etc. With internet and social media, it is cost effective way to enter the world marketing media. \n\n3) Sales: Sales is biggest factor when it comes to opening a brand new  business in any sector. It is best to do this by becoming at expert such as hiring the best professionals for grooming, advertise by donating in your community, be a part of different events and trade shows;  provide some offers or discount on services and products.\n"
        },
        {
            "metadata": {},
            "cell_type": "code",
            "source": "",
            "execution_count": null,
            "outputs": []
        }
    ],
    "metadata": {
        "kernelspec": {
            "name": "python3",
            "display_name": "Python 3.6",
            "language": "python"
        },
        "language_info": {
            "name": "python",
            "version": "3.6.9",
            "mimetype": "text/x-python",
            "codemirror_mode": {
                "name": "ipython",
                "version": 3
            },
            "pygments_lexer": "ipython3",
            "nbconvert_exporter": "python",
            "file_extension": ".py"
        }
    },
    "nbformat": 4,
    "nbformat_minor": 1
}