{
    "cells": [
        {
            "cell_type": "markdown",
            "metadata": {
                "collapsed": true
            },
            "source": "# Introduction"
        },
        {
            "cell_type": "markdown",
            "metadata": {},
            "source": "Dogs are truly the best partners in our life. Research shows that having a dog as a companion has so many benefits both physically and mentally. Dogs can be your true friend, provide you with unconditional love, can motivate you to exercise, and the list goes on. It is also very important that our little fur baby can be taken care of in terms of health, grooming, and giving attention. \n\n"
        },
        {
            "cell_type": "markdown",
            "metadata": {},
            "source": "# Business Problem:"
        },
        {
            "cell_type": "markdown",
            "metadata": {},
            "source": "In a big city like Toronto, there is so much competition with dog grooming, but we want to make sure that our fur babies are going to that special place\nwhere it receives the love and care that it deserves. We want to provide an excellent grooming to all those parents who love their dogs so much. \nWhere is the best place to open dog grooming services?\n"
        },
        {
            "cell_type": "markdown",
            "metadata": {},
            "source": "# Target Audience "
        },
        {
            "cell_type": "markdown",
            "metadata": {},
            "source": "\u25aa\tfind an area with a lot of dog owners\n\t\u25aa\tvolunteer organizations\n\t\u25aa\tPet stores"
        },
        {
            "cell_type": "markdown",
            "metadata": {},
            "source": "# Locations"
        },
        {
            "cell_type": "markdown",
            "metadata": {},
            "source": "\u25aa\tNo grooming services close by\n\t\u25aa\tIdea of having a mobile is also an option\n\t\u25aa\tDog grooming with doggy daycare "
        },
        {
            "cell_type": "code",
            "execution_count": null,
            "metadata": {},
            "outputs": [],
            "source": ""
        }
    ],
    "metadata": {
        "kernelspec": {
            "display_name": "Python 3.6",
            "language": "python",
            "name": "python3"
        },
        "language_info": {
            "codemirror_mode": {
                "name": "ipython",
                "version": 3
            },
            "file_extension": ".py",
            "mimetype": "text/x-python",
            "name": "python",
            "nbconvert_exporter": "python",
            "pygments_lexer": "ipython3",
            "version": "3.6.9"
        }
    },
    "nbformat": 4,
    "nbformat_minor": 1
}