{
    "cells": [
        {
            "metadata": {
                "collapsed": true
            },
            "cell_type": "markdown",
            "source": "# Introduction"
        },
        {
            "metadata": {},
            "cell_type": "markdown",
            "source": "Dogs are truly the best partners in our life. Research shows that having a dog as a companion has so many benefits both physically and mentally. Dogs can be your true friend, provide you with unconditional love, can motivate you to exercise, and the list goes on. It is also very important that our little fur baby can be taken care of in terms of health, grooming, and giving attention. \n\n"
        },
        {
            "metadata": {},
            "cell_type": "markdown",
            "source": "# Business Problem:"
        },
        {
            "metadata": {},
            "cell_type": "markdown",
            "source": "In a big city like Toronto, there is so much competition with dog grooming, but we want to make sure that our fur babies are going to that special place\nwhere it receives the love and care that it deserves. We want to provide an excellent grooming to all those parents who love their dogs so much. \nWhere is the best place to open dog grooming services?\n"
        },
        {
            "metadata": {},
            "cell_type": "code",
            "source": "",
            "execution_count": null,
            "outputs": []
        }
    ],
    "metadata": {
        "kernelspec": {
            "name": "python3",
            "display_name": "Python 3.6",
            "language": "python"
        },
        "language_info": {
            "name": "python",
            "version": "3.6.9",
            "mimetype": "text/x-python",
            "codemirror_mode": {
                "name": "ipython",
                "version": 3
            },
            "pygments_lexer": "ipython3",
            "nbconvert_exporter": "python",
            "file_extension": ".py"
        }
    },
    "nbformat": 4,
    "nbformat_minor": 1
}